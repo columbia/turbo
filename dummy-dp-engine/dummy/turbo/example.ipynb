{
 "cells": [
  {
   "cell_type": "code",
   "execution_count": 1,
   "metadata": {},
   "outputs": [],
   "source": [
    "from turbo.core import Turbo\n",
    "from turbo.sql import (\n",
    "    SQLTurboQuery,\n",
    ")\n",
    "from dummy.turbo import DummyDPEngineHook\n",
    "from dummy import DummyDPExecutor, DummyBudgetAccountant\n",
    "\n",
    "turbo_config = {\n",
    "    \"alpha\": 0.05,\n",
    "    \"beta\": 0.001,\n",
    "    \"histogram_cfg\": {\"learning_rate\": 4, \"heuristic\": \"bin_visits:5-1\", \"tau\": 0.01},\n",
    "    \"attributes_info\": [\n",
    "        (\n",
    "            \"weekday\",\n",
    "            [\n",
    "                \"Monday\",\n",
    "                \"Tuesday\",\n",
    "                \"Wednesday\",\n",
    "                \"Thursday\",\n",
    "                \"Friday\",\n",
    "                \"Saturday\",\n",
    "                \"Sunday\",\n",
    "            ],\n",
    "        ),\n",
    "        (\n",
    "            \"hour\",\n",
    "            [\n",
    "                \"00:00-4:00\",\n",
    "                \"4:00-8:00\",\n",
    "                \"8:00-12:00\",\n",
    "                \"12:00-16:00\",\n",
    "                \"16:00-20:00\",\n",
    "                \"20:00-00:00\",\n",
    "            ],\n",
    "        ),\n",
    "        (\n",
    "            \"duration_minutes\",\n",
    "            [\"0'-20'\", \"20'-40'\", \"40'-60'\", \"60'-80'\", \"80'-100'\", \"100'-120'\"],\n",
    "        ),\n",
    "        (\"start_station\", [\"0\", \"1\", \"2\", \"3\", \"4\", \"5\", \"6\", \"7\", \"8\", \"9\"]),\n",
    "        (\"end_station\", [\"0\", \"1\", \"2\", \"3\", \"4\", \"5\", \"6\", \"7\", \"8\", \"9\"]),\n",
    "        (\"usertype\", [\"customer\", \"subscriber\"]),\n",
    "        (\"gender\", [\"unknown\", \"male\", \"female\"]),\n",
    "        (\"age\", [\"0-17\", \"18-49\", \"50-64\", \"65+\"]),\n",
    "    ],\n",
    "}"
   ]
  },
  {
   "cell_type": "code",
   "execution_count": 2,
   "metadata": {},
   "outputs": [],
   "source": [
    "# Create the dummy dp engine executor and dummy budget accountant.\n",
    "dataset_path = \"~/turbo-suite/datasets/citibike.csv\"\n",
    "executor = DummyDPExecutor(dataset_path)\n",
    "budget_accountant = DummyBudgetAccountant(1)"
   ]
  },
  {
   "cell_type": "code",
   "execution_count": 3,
   "metadata": {},
   "outputs": [],
   "source": [
    "# Create TurboQuery\n",
    "sql_query = \"SELECT count(*) FROM citibike WHERE gender = 'male'\"\n",
    "turbo_query = SQLTurboQuery(sql_query)"
   ]
  },
  {
   "cell_type": "code",
   "execution_count": 6,
   "metadata": {},
   "outputs": [],
   "source": [
    "# Create Turbo and initialize it with TurboExecutor \n",
    "turbo = Turbo(\n",
    "    config=turbo_config,\n",
    "    dp_engine_hook=DummyDPEngineHook(executor, budget_accountant),\n",
    ")"
   ]
  },
  {
   "cell_type": "code",
   "execution_count": 8,
   "metadata": {},
   "outputs": [
    {
     "name": "stdout",
     "output_type": "stream",
     "text": [
      "Remaining Budget 0.9991641552588231\n"
     ]
    }
   ],
   "source": [
    "# Run query using Turbo\n",
    "answer = turbo.run(turbo_query, turbo.accuracy)\n",
    "print(\"Remaining Budget\", budget_accountant.remaining_budget)"
   ]
  }
 ],
 "metadata": {
  "kernelspec": {
   "display_name": "Python 3 (ipykernel)",
   "language": "python",
   "name": "python3"
  },
  "language_info": {
   "codemirror_mode": {
    "name": "ipython",
    "version": 3
   },
   "file_extension": ".py",
   "mimetype": "text/x-python",
   "name": "python",
   "nbconvert_exporter": "python",
   "pygments_lexer": "ipython3",
   "version": "3.8.10"
  }
 },
 "nbformat": 4,
 "nbformat_minor": 4
}
