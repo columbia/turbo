{
 "cells": [
  {
   "cell_type": "markdown",
   "metadata": {},
   "source": [
    "# Tumult with Turbo Demo "
   ]
  },
  {
   "cell_type": "code",
   "execution_count": 1,
   "metadata": {},
   "outputs": [
    {
     "name": "stdout",
     "output_type": "stream",
     "text": [
      "23/10/21 03:10:07 WARN Utils: Your hostname, ds-07 resolves to a loopback address: 127.0.1.1; using 128.59.23.56 instead (on interface eth0)\n",
      "23/10/21 03:10:07 WARN Utils: Set SPARK_LOCAL_IP if you need to bind to another address\n"
     ]
    },
    {
     "name": "stderr",
     "output_type": "stream",
     "text": [
      "Setting default log level to \"WARN\".\n",
      "To adjust logging level use sc.setLogLevel(newLevel). For SparkR, use setLogLevel(newLevel).\n"
     ]
    },
    {
     "name": "stdout",
     "output_type": "stream",
     "text": [
      "23/10/21 03:10:08 WARN NativeCodeLoader: Unable to load native-hadoop library for your platform... using builtin-java classes where applicable\n"
     ]
    },
    {
     "name": "stderr",
     "output_type": "stream",
     "text": [
      "                                                                                \r"
     ]
    }
   ],
   "source": [
    "import math\n",
    "import warnings\n",
    "from pathlib import Path\n",
    "warnings.filterwarnings(action='ignore', category=UserWarning)\n",
    "\n",
    "from pyspark import SparkFiles\n",
    "from pyspark.sql import SparkSession\n",
    "from tmlt.analytics.privacy_budget import PureDPBudget\n",
    "from tmlt.analytics.protected_change import AddMaxRows\n",
    "from tmlt.analytics.query_builder import QueryBuilder\n",
    "from termcolor import colored\n",
    "\n",
    "def print_budget(prev_budget, remaining_privacy_budget):\n",
    "    print(colored(f\"Consumed Budget: {(prev_budget._epsilon-remaining_privacy_budget._epsilon).to_float(round_up=True)} \\n\", \"red\"))\n",
    "    print(colored(f\"Remaining Budget: {remaining_privacy_budget._epsilon.to_float(round_up=True)} \\n\", \"green\"))\n",
    "    \n",
    "\n",
    "# Read dataset\n",
    "spark = SparkSession.builder.getOrCreate()\n",
    "spark.sparkContext.setLogLevel(\"OFF\")\n",
    "\n",
    "turbo_suite_path = Path.home().joinpath(\"turbo-suite\")\n",
    "citibike_path = turbo_suite_path.joinpath(\"datasets/citibike.csv\")\n",
    "spark.sparkContext.addFile(str(citibike_path))\n",
    "citibike_df = spark.read.csv(\n",
    "    SparkFiles.get(\"citibike.csv\"), header=True, inferSchema=True\n",
    ")"
   ]
  },
  {
   "cell_type": "markdown",
   "metadata": {},
   "source": [
    "### Step 1: Import `TurboSession` and `Accuracy` from Turbo"
   ]
  },
  {
   "cell_type": "code",
   "execution_count": 2,
   "metadata": {},
   "outputs": [],
   "source": [
    "from turbo.core import Accuracy\n",
    "from tmlt.turbo import TurboSession"
   ]
  },
  {
   "cell_type": "markdown",
   "metadata": {},
   "source": [
    "### Step 2: setup turbo configuration\n",
    "- Turbo requires from users to specify info about the data domain.\n",
    "- Optionally users can also specify parameters that configure Turbo (default config used otherwise)."
   ]
  },
  {
   "cell_type": "code",
   "execution_count": 3,
   "metadata": {},
   "outputs": [],
   "source": [
    "# User needs to define a configuration for Turbo\n",
    "turbo_config = {\n",
    "    \"alpha\": 0.05,\n",
    "    \"beta\": 0.001,\n",
    "    \"histogram_cfg\": {\"learning_rate\": 4, \"heuristic\": \"bin_visits:5-1\", \"tau\": 0.01},\n",
    "    \"attributes_info\": [\n",
    "        (\n",
    "            \"weekday\",\n",
    "            [\n",
    "                \"Monday\",\n",
    "                \"Tuesday\",\n",
    "                \"Wednesday\",\n",
    "                \"Thursday\",\n",
    "                \"Friday\",\n",
    "                \"Saturday\",\n",
    "                \"Sunday\",\n",
    "            ],\n",
    "        ),\n",
    "        (\n",
    "            \"hour\",\n",
    "            [\n",
    "                \"00:00-4:00\",\n",
    "                \"4:00-8:00\",\n",
    "                \"8:00-12:00\",\n",
    "                \"12:00-16:00\",\n",
    "                \"16:00-20:00\",\n",
    "                \"20:00-00:00\",\n",
    "            ],\n",
    "        ),\n",
    "        (\n",
    "            \"duration_minutes\",\n",
    "            [\"0'-20'\", \"20'-40'\", \"40'-60'\", \"60'-80'\", \"80'-100'\", \"100'-120'\"],\n",
    "        ),\n",
    "        (\"start_station\", [\"0\", \"1\", \"2\", \"3\", \"4\", \"5\", \"6\", \"7\", \"8\", \"9\"]),\n",
    "        (\"end_station\", [\"0\", \"1\", \"2\", \"3\", \"4\", \"5\", \"6\", \"7\", \"8\", \"9\"]),\n",
    "        (\"usertype\", [\"customer\", \"subscriber\"]),\n",
    "        (\"gender\", [\"unknown\", \"male\", \"female\"]),\n",
    "        (\"age\", [\"0-17\", \"18-49\", \"50-64\", \"65+\"]),\n",
    "    ],\n",
    "}"
   ]
  },
  {
   "cell_type": "markdown",
   "metadata": {},
   "source": [
    "### Step 3: Create a `TurboSession` and pass `turbo_config` as an argument\n",
    "- Note: setting `AddMaxRows(2)` is mandatory. Turbo uses a `ReplaceOneRow` definition which is not supported by Tumult. `AddMaxRows(2)` entails using `ReplaceOneRow` (see `https://github.com/columbia/turbo-suite/blob/dp_audit/tumult-turbo/tmlt/turbo/neighborhood_definitions.pdf`)."
   ]
  },
  {
   "cell_type": "code",
   "execution_count": 4,
   "metadata": {},
   "outputs": [],
   "source": [
    "# Build TurboSession\n",
    "session = TurboSession.from_dataframe(\n",
    "    privacy_budget=PureDPBudget(1),\n",
    "    source_id=\"citibike\",\n",
    "    dataframe=citibike_df,\n",
    "    protected_change=AddMaxRows(2),\n",
    "    turbo_config=turbo_config,\n",
    ")"
   ]
  },
  {
   "cell_type": "markdown",
   "metadata": {},
   "source": [
    "### Step 4: Evaluate queries \n",
    "- `TurboSession` supports passing both a `privacy budget` or a desired `accuracy` target. If a user specifies an accuracy target Turbo session will automatically convert this to a `privacy budget` (works only when using `PureDP` and `counts`, otherwise it will throw an error). "
   ]
  },
  {
   "cell_type": "code",
   "execution_count": 5,
   "metadata": {},
   "outputs": [],
   "source": [
    "# Specify count query\n",
    "query1 = QueryBuilder(\"citibike\").filter(\"gender = 'male'\").count()"
   ]
  },
  {
   "cell_type": "markdown",
   "metadata": {},
   "source": [
    "### Case 1: Exact-Cache miss / Histogram Bypass\n",
    "- First time we evaluate we miss on `exact-cache` and bypass `histogram`.\n",
    "- We pay `requested_epsilon = 0.0008358447411768716`."
   ]
  },
  {
   "cell_type": "code",
   "execution_count": 6,
   "metadata": {},
   "outputs": [
    {
     "name": "stderr",
     "output_type": "stream",
     "text": [
      "                                                                                \r"
     ]
    },
    {
     "name": "stdout",
     "output_type": "stream",
     "text": [
      "+------+\n",
      "| count|\n",
      "+------+\n",
      "|225864|\n",
      "+------+\n",
      "\n",
      "\u001b[31mConsumed Budget: 0.0008358447411768716 \n",
      "\u001b[0m\n",
      "\u001b[32mRemaining Budget: 0.9991641552588241 \n",
      "\u001b[0m\n",
      "CPU times: user 1.13 s, sys: 176 ms, total: 1.31 s\n",
      "Wall time: 13.1 s\n"
     ]
    }
   ],
   "source": [
    "%%time\n",
    "prev_budget = session.remaining_privacy_budget\n",
    "\n",
    "count = session.evaluate(\n",
    "    query1,\n",
    "    Accuracy(turbo_config[\"alpha\"], turbo_config[\"beta\"]),\n",
    ")\n",
    "count.show()\n",
    "\n",
    "print_budget(prev_budget, session.remaining_privacy_budget)"
   ]
  },
  {
   "cell_type": "markdown",
   "metadata": {},
   "source": [
    "### Case 2: Exact-Cache hit\n",
    "- Second time we evaluate we hit on `exact-cache` getting the exact same DP output.\n",
    "- We pay 0 epsilon."
   ]
  },
  {
   "cell_type": "code",
   "execution_count": 7,
   "metadata": {},
   "outputs": [
    {
     "name": "stderr",
     "output_type": "stream",
     "text": [
      "                                                                                \r"
     ]
    },
    {
     "name": "stdout",
     "output_type": "stream",
     "text": [
      "+------+\n",
      "| count|\n",
      "+------+\n",
      "|225864|\n",
      "+------+\n",
      "\n",
      "\u001b[31mConsumed Budget: 0 \n",
      "\u001b[0m\n",
      "\u001b[32mRemaining Budget: 0.9991641552588241 \n",
      "\u001b[0m\n",
      "CPU times: user 195 ms, sys: 31.2 ms, total: 226 ms\n",
      "Wall time: 3.83 s\n"
     ]
    }
   ],
   "source": [
    "%%time\n",
    "prev_budget = session.remaining_privacy_budget\n",
    "count = session.evaluate(\n",
    "    query1,\n",
    "    Accuracy(turbo_config[\"alpha\"], turbo_config[\"beta\"]),\n",
    ")\n",
    "count.show()\n",
    "\n",
    "print_budget(prev_budget, session.remaining_privacy_budget)"
   ]
  },
  {
   "cell_type": "markdown",
   "metadata": {},
   "source": [
    "### Case 3: Exact-Cache miss / Histogram Miss\n",
    "- Let's create a new setup where the histogram heuristic is too eager to accept a histogram run and run the query again! \n",
    "- You'll see some SV-check debugging messages that I left. This is proof that we use the histogram this time!"
   ]
  },
  {
   "cell_type": "code",
   "execution_count": 8,
   "metadata": {},
   "outputs": [],
   "source": [
    "turbo_config[\"histogram_cfg\"][\"heuristic\"] = \"bin_visits:0-1\"\n",
    "session = TurboSession.from_dataframe(\n",
    "    privacy_budget=PureDPBudget(1),\n",
    "    source_id=\"citibike\",\n",
    "    dataframe=citibike_df,\n",
    "    protected_change=AddMaxRows(2),\n",
    "    turbo_config=turbo_config,\n",
    ")"
   ]
  },
  {
   "cell_type": "markdown",
   "metadata": {},
   "source": [
    "- Run the query again in this new setup!\n",
    "- The debugging message shows that the dp-result was `0.333`. \n",
    "- This makes sense! We have 3 genders `unknown, male, female` in the dataset and the histogram is initialized uniformly!\n",
    "- Look at the budget consumed! It's a lot! \n",
    "- We paid for: \n",
    "    - `SV initialization` = `0.002835625695648337`, and \n",
    "    - `tumult's Laplace run` = `0.0008358447411768716`\n",
    "- Note that Tumult might round-up the budget to account for floating-point precision errors."
   ]
  },
  {
   "cell_type": "code",
   "execution_count": 9,
   "metadata": {},
   "outputs": [
    {
     "name": "stderr",
     "output_type": "stream",
     "text": [
      "\u001b[32m2023-10-21 03:12:06.276\u001b[0m | \u001b[34m\u001b[1mDEBUG   \u001b[0m | \u001b[36mturbo.core.turbo\u001b[0m:\u001b[36mprobeL2\u001b[0m:\u001b[36m158\u001b[0m - \u001b[34m\u001b[1m\u001b[33mdp_result, 0.33333333333334275\u001b[0m\u001b[0m\n",
      "\u001b[32m2023-10-21 03:12:06.278\u001b[0m | \u001b[34m\u001b[1mDEBUG   \u001b[0m | \u001b[36mturbo.core.turbo\u001b[0m:\u001b[36mprobeL2\u001b[0m:\u001b[36m162\u001b[0m - \u001b[34m\u001b[1m\u001b[33mtrue_result, 0.6817585063646484\u001b[0m\u001b[0m\n",
      "\u001b[32m2023-10-21 03:12:06.279\u001b[0m | \u001b[34m\u001b[1mDEBUG   \u001b[0m | \u001b[36mturbo.core.turbo\u001b[0m:\u001b[36m_run_sv_check\u001b[0m:\u001b[36m186\u001b[0m - \u001b[34m\u001b[1m\u001b[31mSV_init_budget, 0.002835668584812941\u001b[0m\u001b[0m\n",
      "\u001b[32m2023-10-21 03:12:06.280\u001b[0m | \u001b[34m\u001b[1mDEBUG   \u001b[0m | \u001b[36mturbo.core.cache.sparse_vectors\u001b[0m:\u001b[36mcheck\u001b[0m:\u001b[36m35\u001b[0m - \u001b[34m\u001b[1m\u001b[33mtrue_error, 0.34842517303130566\u001b[0m\u001b[0m\n",
      "\u001b[32m2023-10-21 03:12:06.281\u001b[0m | \u001b[34m\u001b[1mDEBUG   \u001b[0m | \u001b[36mturbo.core.cache.sparse_vectors\u001b[0m:\u001b[36mcheck\u001b[0m:\u001b[36m38\u001b[0m - \u001b[34m\u001b[1m\u001b[33mnoisy_error, 0.3491520611681897\u001b[0m\u001b[0m\n",
      "\u001b[32m2023-10-21 03:12:06.282\u001b[0m | \u001b[34m\u001b[1mDEBUG   \u001b[0m | \u001b[36mturbo.core.cache.sparse_vectors\u001b[0m:\u001b[36mcheck\u001b[0m:\u001b[36m44\u001b[0m - \u001b[34m\u001b[1m\u001b[33mnoisy_threshold, 0.026308861975299244\u001b[0m\u001b[0m\n"
     ]
    },
    {
     "name": "stdout",
     "output_type": "stream",
     "text": [
      "+------+\n",
      "| count|\n",
      "+------+\n",
      "|226408|\n",
      "+------+\n",
      "\n",
      "\u001b[31mConsumed Budget: 0.0036715133259898128 \n",
      "\u001b[0m\n",
      "\u001b[32mRemaining Budget: 0.9963284866740102 \n",
      "\u001b[0m\n",
      "CPU times: user 1.28 s, sys: 180 ms, total: 1.46 s\n",
      "Wall time: 6.41 s\n"
     ]
    }
   ],
   "source": [
    "%%time\n",
    "prev_budget = session.remaining_privacy_budget\n",
    "count = session.evaluate(\n",
    "    query1,\n",
    "    Accuracy(turbo_config[\"alpha\"], turbo_config[\"beta\"]),\n",
    ")\n",
    "count.show()\n",
    "print_budget(prev_budget, session.remaining_privacy_budget)"
   ]
  },
  {
   "cell_type": "markdown",
   "metadata": {},
   "source": [
    "- And what happens if I re-run? \n",
    "- After failing the SV check and running a Laplace we update the exact-cache and the histogram.\n",
    "- So, now we hit the `exact-cache`!"
   ]
  },
  {
   "cell_type": "code",
   "execution_count": 10,
   "metadata": {},
   "outputs": [
    {
     "name": "stderr",
     "output_type": "stream",
     "text": [
      "                                                                                \r"
     ]
    },
    {
     "name": "stdout",
     "output_type": "stream",
     "text": [
      "+------+\n",
      "| count|\n",
      "+------+\n",
      "|226408|\n",
      "+------+\n",
      "\n",
      "\u001b[31mConsumed Budget: 0 \n",
      "\u001b[0m\n",
      "\u001b[32mRemaining Budget: 0.9963284866740102 \n",
      "\u001b[0m\n",
      "CPU times: user 166 ms, sys: 41.3 ms, total: 207 ms\n",
      "Wall time: 3.72 s\n"
     ]
    }
   ],
   "source": [
    "%%time\n",
    "prev_budget = session.remaining_privacy_budget\n",
    "count = session.evaluate(\n",
    "    query1,\n",
    "    Accuracy(turbo_config[\"alpha\"], turbo_config[\"beta\"]),\n",
    ")\n",
    "count.show()\n",
    "\n",
    "print_budget(prev_budget, session.remaining_privacy_budget)"
   ]
  },
  {
   "cell_type": "code",
   "execution_count": null,
   "metadata": {},
   "outputs": [],
   "source": []
  }
 ],
 "metadata": {
  "kernelspec": {
   "display_name": "Python 3 (ipykernel)",
   "language": "python",
   "name": "python3"
  },
  "language_info": {
   "codemirror_mode": {
    "name": "ipython",
    "version": 3
   },
   "file_extension": ".py",
   "mimetype": "text/x-python",
   "name": "python",
   "nbconvert_exporter": "python",
   "pygments_lexer": "ipython3",
   "version": "3.8.10"
  }
 },
 "nbformat": 4,
 "nbformat_minor": 4
}
