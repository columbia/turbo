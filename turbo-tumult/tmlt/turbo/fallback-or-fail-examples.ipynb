{
 "cells": [
  {
   "cell_type": "markdown",
   "metadata": {},
   "source": [
    "# Graceful fallback\n",
    "- Let's run a few tests and check how gracefully we fall back to Tumult when we encounter non-supported cases!"
   ]
  },
  {
   "cell_type": "code",
   "execution_count": 9,
   "metadata": {},
   "outputs": [
    {
     "name": "stdout",
     "output_type": "stream",
     "text": [
      "23/09/24 17:27:03 WARN SparkContext: The path /home/kelly/tumult/spark-warehouse/citibike.csv has been added already. Overwriting of added paths is not supported in the current version.\n"
     ]
    }
   ],
   "source": [
    "# %load_ext autoreload\n",
    "# %autoreload 2\n",
    "\n",
    "import warnings\n",
    "warnings.filterwarnings(action='ignore', category=UserWarning)\n",
    "warnings.filterwarnings(action='always', category=RuntimeWarning)\n",
    "# warnings.simplefilter('always', RuntimeWarning)\n",
    "\n",
    "from pyspark import SparkFiles\n",
    "from pyspark.sql import SparkSession\n",
    "from tmlt.analytics.keyset import KeySet\n",
    "from tmlt.analytics.privacy_budget import PureDPBudget\n",
    "from tmlt.analytics.protected_change import AddMaxRows\n",
    "from tmlt.analytics.query_builder import QueryBuilder\n",
    "from termcolor import colored\n",
    "\n",
    "from turbo.core import Accuracy\n",
    "from tmlt.turbo import TurboSession\n",
    "\n",
    "def print_budget(prev_budget, remaining_privacy_budget):\n",
    "    print(colored(f\"Consumed Budget: {(prev_budget._epsilon-remaining_privacy_budget._epsilon).to_float(round_up=True)} \\n\", \"red\"))\n",
    "    print(colored(f\"Remaining Budget: {remaining_privacy_budget._epsilon.to_float(round_up=True)} \\n\", \"green\"))\n",
    "    \n",
    "\n",
    "# Read dataset\n",
    "spark = SparkSession.builder.getOrCreate()\n",
    "# spark.sparkContext.setLogLevel(\"OFF\")\n",
    "spark.sparkContext.addFile(\"/home/kelly/tumult/spark-warehouse/citibike.csv\")\n",
    "citibike_df = spark.read.csv(\n",
    "    SparkFiles.get(\"citibike.csv\"), header=True, inferSchema=True\n",
    ")\n",
    "\n",
    "# User needs to define a configuration for Turbo\n",
    "turbo_config = {\n",
    "    \"alpha\": 0.05,\n",
    "    \"beta\": 0.001,\n",
    "    \"histogram_cfg\": {\"learning_rate\": 4, \"heuristic\": \"bin_visits:5-1\", \"tau\": 0.01},\n",
    "    \"attributes_info\": [\n",
    "        (\n",
    "            \"weekday\",\n",
    "            [\n",
    "                \"Monday\",\n",
    "                \"Tuesday\",\n",
    "                \"Wednesday\",\n",
    "                \"Thursday\",\n",
    "                \"Friday\",\n",
    "                \"Saturday\",\n",
    "                \"Sunday\",\n",
    "            ],\n",
    "        ),\n",
    "        (\n",
    "            \"hour\",\n",
    "            [\n",
    "                \"00:00-4:00\",\n",
    "                \"4:00-8:00\",\n",
    "                \"8:00-12:00\",\n",
    "                \"12:00-16:00\",\n",
    "                \"16:00-20:00\",\n",
    "                \"20:00-00:00\",\n",
    "            ],\n",
    "        ),\n",
    "        (\n",
    "            \"duration_minutes\",\n",
    "            [\"0'-20'\", \"20'-40'\", \"40'-60'\", \"60'-80'\", \"80'-100'\", \"100'-120'\"],\n",
    "        ),\n",
    "        (\"start_station\", [\"0\", \"1\", \"2\", \"3\", \"4\", \"5\", \"6\", \"7\", \"8\", \"9\"]),\n",
    "        (\"end_station\", [\"0\", \"1\", \"2\", \"3\", \"4\", \"5\", \"6\", \"7\", \"8\", \"9\"]),\n",
    "        (\"usertype\", [\"customer\", \"subscriber\"]),\n",
    "        (\"gender\", [\"unknown\", \"male\", \"female\"]),\n",
    "        (\"age\", [\"0-17\", \"18-49\", \"50-64\", \"65+\"]),\n",
    "    ],\n",
    "}\n",
    "\n",
    "def evaluate(query, dp_demand):\n",
    "    session = TurboSession.from_dataframe(\n",
    "        privacy_budget=PureDPBudget(1),\n",
    "        source_id=\"citibike\",\n",
    "        dataframe=citibike_df,\n",
    "        protected_change=AddMaxRows(2),\n",
    "        turbo_config=turbo_config,\n",
    "    ) \n",
    "    prev_budget = session.remaining_privacy_budget\n",
    "    result = session.evaluate(query, dp_demand)\n",
    "    result.show()\n",
    "    print_budget(prev_budget, session.remaining_privacy_budget)"
   ]
  },
  {
   "cell_type": "markdown",
   "metadata": {},
   "source": [
    "### Passing `accuracy` target that doesn't match Turbo's accuracy\n"
   ]
  },
  {
   "cell_type": "code",
   "execution_count": 10,
   "metadata": {},
   "outputs": [
    {
     "name": "stderr",
     "output_type": "stream",
     "text": [
      "/home/kelly/turbo-suite/tumult-turbo/tmlt/turbo/session.py:245: RuntimeWarning: Can't use Turbo, falling back to Tumult run. PrivacyBudget/Accuracy doesn't match Turbo's accuracy target.\n",
      "  warn(\n",
      "[Stage 130:>                                                        (0 + 1) / 1]\r"
     ]
    },
    {
     "name": "stdout",
     "output_type": "stream",
     "text": [
      "+------+\n",
      "| count|\n",
      "+------+\n",
      "|224594|\n",
      "+------+\n",
      "\n",
      "\u001b[31mConsumed Budget: 0.0006965372843140597 \n",
      "\u001b[0m\n",
      "\u001b[32mRemaining Budget: 0.9993034627156869 \n",
      "\u001b[0m\n"
     ]
    },
    {
     "name": "stderr",
     "output_type": "stream",
     "text": [
      "\r\n",
      "                                                                                \r"
     ]
    }
   ],
   "source": [
    "query = QueryBuilder(\"citibike\").filter(\"gender = 'male'\").count()\n",
    "evaluate(query, Accuracy(0.06, 0.001))"
   ]
  },
  {
   "cell_type": "markdown",
   "metadata": {},
   "source": [
    "### Passing `privacy budget`  that doesn't match Turbo's accuracy\n"
   ]
  },
  {
   "cell_type": "code",
   "execution_count": 11,
   "metadata": {},
   "outputs": [
    {
     "name": "stderr",
     "output_type": "stream",
     "text": [
      "/home/kelly/turbo-suite/tumult-turbo/tmlt/turbo/session.py:245: RuntimeWarning: Can't use Turbo, falling back to Tumult run. PrivacyBudget/Accuracy doesn't match Turbo's accuracy target.\n",
      "  warn(\n",
      "[Stage 145:===========>                                             (1 + 4) / 5]\r"
     ]
    },
    {
     "name": "stdout",
     "output_type": "stream",
     "text": [
      "+---------+\n",
      "|    count|\n",
      "+---------+\n",
      "|-10923208|\n",
      "+---------+\n",
      "\n",
      "\u001b[31mConsumed Budget: 1e-07 \n",
      "\u001b[0m\n",
      "\u001b[32mRemaining Budget: 0.9999999000000009 \n",
      "\u001b[0m\n"
     ]
    },
    {
     "name": "stderr",
     "output_type": "stream",
     "text": [
      "\r\n",
      "                                                                                \r"
     ]
    }
   ],
   "source": [
    "query = QueryBuilder(\"citibike\").filter(\"gender = 'male'\").count()\n",
    "evaluate(query, PureDPBudget(epsilon=0.0000001))"
   ]
  },
  {
   "cell_type": "markdown",
   "metadata": {},
   "source": [
    "### Not supporting Group-bys (for now)\n"
   ]
  },
  {
   "cell_type": "code",
   "execution_count": 12,
   "metadata": {},
   "outputs": [
    {
     "name": "stderr",
     "output_type": "stream",
     "text": [
      "/home/kelly/turbo-suite/tumult-turbo/tmlt/turbo/session.py:245: RuntimeWarning: Can't use Turbo, falling back to Tumult run. Turbo does not support GroupBys.\n",
      "  warn(\n",
      "                                                                                \r"
     ]
    },
    {
     "name": "stdout",
     "output_type": "stream",
     "text": [
      "+-------+------+\n",
      "| gender| count|\n",
      "+-------+------+\n",
      "| female| 70856|\n",
      "|   male|225561|\n",
      "|unknown| 28285|\n",
      "+-------+------+\n",
      "\n",
      "\u001b[31mConsumed Budget: 0.0008358447411768716 \n",
      "\u001b[0m\n",
      "\u001b[32mRemaining Budget: 0.9991641552588241 \n",
      "\u001b[0m\n"
     ]
    }
   ],
   "source": [
    "genders = KeySet.from_dict({\"gender\": [\"unknown\", \"male\", \"female\"]})\n",
    "query = QueryBuilder(\"citibike\").groupby(genders).count()\n",
    "evaluate(query, Accuracy(turbo_config[\"alpha\"], turbo_config[\"beta\"]))"
   ]
  },
  {
   "cell_type": "markdown",
   "metadata": {},
   "source": [
    "### Not supporting binary ops other than `=`"
   ]
  },
  {
   "cell_type": "code",
   "execution_count": 13,
   "metadata": {},
   "outputs": [
    {
     "name": "stderr",
     "output_type": "stream",
     "text": [
      "/home/kelly/turbo-suite/tumult-turbo/tmlt/turbo/session.py:245: RuntimeWarning: Can't use Turbo, falling back to Tumult run. Turbo does not support binary-ops other than `=`\n",
      "  warn(\n",
      "[Stage 207:>                                                        (0 + 1) / 1]\r"
     ]
    },
    {
     "name": "stdout",
     "output_type": "stream",
     "text": [
      "+-----+\n",
      "|count|\n",
      "+-----+\n",
      "|  818|\n",
      "+-----+\n",
      "\n",
      "\u001b[31mConsumed Budget: 0.0008358447411768716 \n",
      "\u001b[0m\n",
      "\u001b[32mRemaining Budget: 0.9991641552588241 \n",
      "\u001b[0m\n"
     ]
    },
    {
     "name": "stderr",
     "output_type": "stream",
     "text": [
      "\r\n",
      "                                                                                \r"
     ]
    }
   ],
   "source": [
    "query = QueryBuilder(\"citibike\").filter(\"time > 0\").count()\n",
    "evaluate(query, Accuracy(turbo_config[\"alpha\"], turbo_config[\"beta\"]))"
   ]
  },
  {
   "cell_type": "markdown",
   "metadata": {},
   "source": [
    "### Not supporting aggregations other than `counts`\n",
    "For not counts, if we pass `accuracy` target the conversion we fail. We randomly pass a `privacy budget`."
   ]
  },
  {
   "cell_type": "code",
   "execution_count": 14,
   "metadata": {},
   "outputs": [
    {
     "name": "stderr",
     "output_type": "stream",
     "text": [
      "/home/kelly/turbo-suite/tumult-turbo/tmlt/turbo/session.py:245: RuntimeWarning: Can't use Turbo, falling back to Tumult run. Turbo does not support aggregations other than Counts\n",
      "  warn(\n",
      "[Stage 222:======================>                                  (2 + 3) / 5]\r"
     ]
    },
    {
     "name": "stdout",
     "output_type": "stream",
     "text": [
      "+--------+\n",
      "|time_sum|\n",
      "+--------+\n",
      "|    1376|\n",
      "+--------+\n",
      "\n",
      "\u001b[31mConsumed Budget: 0.001 \n",
      "\u001b[0m\n",
      "\u001b[32mRemaining Budget: 0.999000000000001 \n",
      "\u001b[0m\n"
     ]
    },
    {
     "name": "stderr",
     "output_type": "stream",
     "text": [
      "\r\n",
      "                                                                                \r"
     ]
    }
   ],
   "source": [
    "query = QueryBuilder(\"citibike\").sum(\"time\", low=0, high=1)\n",
    "evaluate(query, PureDPBudget(epsilon=0.001))"
   ]
  },
  {
   "cell_type": "markdown",
   "metadata": {},
   "source": [
    "### Passed Accuracy in evaluate but aggregation is not Count\n",
    "`Accuracy` to `privacy budget` budget conversion cannot simply fall back to Tumult because Tumult does not support this. If this fails it fails completely.\n"
   ]
  },
  {
   "cell_type": "code",
   "execution_count": 6,
   "metadata": {},
   "outputs": [
    {
     "name": "stderr",
     "output_type": "stream",
     "text": [
      "                                                                                \r"
     ]
    },
    {
     "ename": "ValueError",
     "evalue": "Can't request for accuracy target unless using Count.",
     "output_type": "error",
     "traceback": [
      "\u001b[0;31m---------------------------------------------------------------------------\u001b[0m",
      "\u001b[0;31mValueError\u001b[0m                                Traceback (most recent call last)",
      "Cell \u001b[0;32mIn[6], line 2\u001b[0m\n\u001b[1;32m      1\u001b[0m query \u001b[38;5;241m=\u001b[39m QueryBuilder(\u001b[38;5;124m\"\u001b[39m\u001b[38;5;124mcitibike\u001b[39m\u001b[38;5;124m\"\u001b[39m)\u001b[38;5;241m.\u001b[39msum(\u001b[38;5;124m\"\u001b[39m\u001b[38;5;124mtime\u001b[39m\u001b[38;5;124m\"\u001b[39m, low\u001b[38;5;241m=\u001b[39m\u001b[38;5;241m0\u001b[39m, high\u001b[38;5;241m=\u001b[39m\u001b[38;5;241m1\u001b[39m)\n\u001b[0;32m----> 2\u001b[0m \u001b[43mevaluate\u001b[49m\u001b[43m(\u001b[49m\u001b[43mquery\u001b[49m\u001b[43m,\u001b[49m\u001b[43m \u001b[49m\u001b[43mAccuracy\u001b[49m\u001b[43m(\u001b[49m\u001b[43mturbo_config\u001b[49m\u001b[43m[\u001b[49m\u001b[38;5;124;43m\"\u001b[39;49m\u001b[38;5;124;43malpha\u001b[39;49m\u001b[38;5;124;43m\"\u001b[39;49m\u001b[43m]\u001b[49m\u001b[43m,\u001b[49m\u001b[43m \u001b[49m\u001b[43mturbo_config\u001b[49m\u001b[43m[\u001b[49m\u001b[38;5;124;43m\"\u001b[39;49m\u001b[38;5;124;43mbeta\u001b[39;49m\u001b[38;5;124;43m\"\u001b[39;49m\u001b[43m]\u001b[49m\u001b[43m)\u001b[49m\u001b[43m)\u001b[49m\n",
      "Cell \u001b[0;32mIn[5], line 80\u001b[0m, in \u001b[0;36mevaluate\u001b[0;34m(query, dp_demand)\u001b[0m\n\u001b[1;32m     72\u001b[0m session \u001b[38;5;241m=\u001b[39m TurboSession\u001b[38;5;241m.\u001b[39mfrom_dataframe(\n\u001b[1;32m     73\u001b[0m     privacy_budget\u001b[38;5;241m=\u001b[39mPureDPBudget(\u001b[38;5;241m1\u001b[39m),\n\u001b[1;32m     74\u001b[0m     source_id\u001b[38;5;241m=\u001b[39m\u001b[38;5;124m\"\u001b[39m\u001b[38;5;124mcitibike\u001b[39m\u001b[38;5;124m\"\u001b[39m,\n\u001b[0;32m   (...)\u001b[0m\n\u001b[1;32m     77\u001b[0m     turbo_config\u001b[38;5;241m=\u001b[39mturbo_config,\n\u001b[1;32m     78\u001b[0m ) \n\u001b[1;32m     79\u001b[0m prev_budget \u001b[38;5;241m=\u001b[39m session\u001b[38;5;241m.\u001b[39mremaining_privacy_budget\n\u001b[0;32m---> 80\u001b[0m result \u001b[38;5;241m=\u001b[39m \u001b[43msession\u001b[49m\u001b[38;5;241;43m.\u001b[39;49m\u001b[43mevaluate\u001b[49m\u001b[43m(\u001b[49m\u001b[43mquery\u001b[49m\u001b[43m,\u001b[49m\u001b[43m \u001b[49m\u001b[43mdp_demand\u001b[49m\u001b[43m)\u001b[49m\n\u001b[1;32m     81\u001b[0m result\u001b[38;5;241m.\u001b[39mshow()\n\u001b[1;32m     82\u001b[0m print_budget(prev_budget, session\u001b[38;5;241m.\u001b[39mremaining_privacy_budget)\n",
      "File \u001b[0;32m~/turbo-suite/tumult-turbo/tmlt/turbo/session.py:131\u001b[0m, in \u001b[0;36mTurboSession.evaluate\u001b[0;34m(self, query_expr, dp_demand)\u001b[0m\n\u001b[1;32m    129\u001b[0m \u001b[38;5;28;01mif\u001b[39;00m \u001b[38;5;28misinstance\u001b[39m(dp_demand, Accuracy):\n\u001b[1;32m    130\u001b[0m     \u001b[38;5;28;01mif\u001b[39;00m \u001b[38;5;129;01mnot\u001b[39;00m \u001b[38;5;28misinstance\u001b[39m(query_expr, GroupByCount):\n\u001b[0;32m--> 131\u001b[0m         \u001b[38;5;28;01mraise\u001b[39;00m \u001b[38;5;167;01mValueError\u001b[39;00m(\n\u001b[1;32m    132\u001b[0m             \u001b[38;5;124m\"\u001b[39m\u001b[38;5;124mCan\u001b[39m\u001b[38;5;124m'\u001b[39m\u001b[38;5;124mt request for accuracy target unless using Count.\u001b[39m\u001b[38;5;124m\"\u001b[39m\n\u001b[1;32m    133\u001b[0m         )\n\u001b[1;32m    135\u001b[0m     \u001b[38;5;28;01mif\u001b[39;00m \u001b[38;5;28mself\u001b[39m\u001b[38;5;241m.\u001b[39m_accountant\u001b[38;5;241m.\u001b[39moutput_measure \u001b[38;5;241m!=\u001b[39m PureDP():\n\u001b[1;32m    136\u001b[0m         \u001b[38;5;28;01mraise\u001b[39;00m \u001b[38;5;167;01mValueError\u001b[39;00m(\n\u001b[1;32m    137\u001b[0m             \u001b[38;5;124m\"\u001b[39m\u001b[38;5;124mCan\u001b[39m\u001b[38;5;124m'\u001b[39m\u001b[38;5;124mt request for accuracy target unless using PureDP.\u001b[39m\u001b[38;5;124m\"\u001b[39m\n\u001b[1;32m    138\u001b[0m         )\n",
      "\u001b[0;31mValueError\u001b[0m: Can't request for accuracy target unless using Count."
     ]
    }
   ],
   "source": [
    "query = QueryBuilder(\"citibike\").sum(\"time\", low=0, high=1)\n",
    "evaluate(query, Accuracy(turbo_config[\"alpha\"], turbo_config[\"beta\"]))"
   ]
  },
  {
   "cell_type": "markdown",
   "metadata": {},
   "source": [
    "### Try to create a TurboSession with a neighboring definition other than `AddMaxRows(2)`"
   ]
  },
  {
   "cell_type": "code",
   "execution_count": 16,
   "metadata": {},
   "outputs": [
    {
     "ename": "ValueError",
     "evalue": "Turbo works only with the ReplaceOneRow definition which Tumult doesn't support.\n                             You must use AddMaxRows(2) which entails ReplaceOneRow instead",
     "output_type": "error",
     "traceback": [
      "\u001b[0;31m---------------------------------------------------------------------------\u001b[0m",
      "\u001b[0;31mValueError\u001b[0m                                Traceback (most recent call last)",
      "Cell \u001b[0;32mIn[16], line 1\u001b[0m\n\u001b[0;32m----> 1\u001b[0m session \u001b[38;5;241m=\u001b[39m \u001b[43mTurboSession\u001b[49m\u001b[38;5;241;43m.\u001b[39;49m\u001b[43mfrom_dataframe\u001b[49m\u001b[43m(\u001b[49m\n\u001b[1;32m      2\u001b[0m \u001b[43m    \u001b[49m\u001b[43mprivacy_budget\u001b[49m\u001b[38;5;241;43m=\u001b[39;49m\u001b[43mPureDPBudget\u001b[49m\u001b[43m(\u001b[49m\u001b[38;5;241;43m1\u001b[39;49m\u001b[43m)\u001b[49m\u001b[43m,\u001b[49m\n\u001b[1;32m      3\u001b[0m \u001b[43m    \u001b[49m\u001b[43msource_id\u001b[49m\u001b[38;5;241;43m=\u001b[39;49m\u001b[38;5;124;43m\"\u001b[39;49m\u001b[38;5;124;43mcitibike\u001b[39;49m\u001b[38;5;124;43m\"\u001b[39;49m\u001b[43m,\u001b[49m\n\u001b[1;32m      4\u001b[0m \u001b[43m    \u001b[49m\u001b[43mdataframe\u001b[49m\u001b[38;5;241;43m=\u001b[39;49m\u001b[43mcitibike_df\u001b[49m\u001b[43m,\u001b[49m\n\u001b[1;32m      5\u001b[0m \u001b[43m    \u001b[49m\u001b[43mprotected_change\u001b[49m\u001b[38;5;241;43m=\u001b[39;49m\u001b[43mAddMaxRows\u001b[49m\u001b[43m(\u001b[49m\u001b[38;5;241;43m1\u001b[39;49m\u001b[43m)\u001b[49m\u001b[43m,\u001b[49m\n\u001b[1;32m      6\u001b[0m \u001b[43m    \u001b[49m\u001b[43mturbo_config\u001b[49m\u001b[38;5;241;43m=\u001b[39;49m\u001b[43mturbo_config\u001b[49m\u001b[43m,\u001b[49m\n\u001b[1;32m      7\u001b[0m \u001b[43m)\u001b[49m \n",
      "File \u001b[0;32m~/.local/lib/python3.8/site-packages/typeguard/__init__.py:927\u001b[0m, in \u001b[0;36mtypechecked.<locals>.wrapper\u001b[0;34m(*args, **kwargs)\u001b[0m\n\u001b[1;32m    925\u001b[0m memo \u001b[38;5;241m=\u001b[39m _CallMemo(python_func, _localns, args\u001b[38;5;241m=\u001b[39margs, kwargs\u001b[38;5;241m=\u001b[39mkwargs)\n\u001b[1;32m    926\u001b[0m check_argument_types(memo)\n\u001b[0;32m--> 927\u001b[0m retval \u001b[38;5;241m=\u001b[39m \u001b[43mfunc\u001b[49m\u001b[43m(\u001b[49m\u001b[38;5;241;43m*\u001b[39;49m\u001b[43margs\u001b[49m\u001b[43m,\u001b[49m\u001b[43m \u001b[49m\u001b[38;5;241;43m*\u001b[39;49m\u001b[38;5;241;43m*\u001b[39;49m\u001b[43mkwargs\u001b[49m\u001b[43m)\u001b[49m\n\u001b[1;32m    928\u001b[0m \u001b[38;5;28;01mtry\u001b[39;00m:\n\u001b[1;32m    929\u001b[0m     check_return_type(retval, memo)\n",
      "File \u001b[0;32m~/turbo-suite/tumult-turbo/tmlt/turbo/session.py:82\u001b[0m, in \u001b[0;36mTurboSession.from_dataframe\u001b[0;34m(cls, privacy_budget, source_id, dataframe, turbo_config, stability, grouping_column, protected_change)\u001b[0m\n\u001b[1;32m     67\u001b[0m session_builder \u001b[38;5;241m=\u001b[39m (\n\u001b[1;32m     68\u001b[0m     Session\u001b[38;5;241m.\u001b[39mBuilder()\n\u001b[1;32m     69\u001b[0m     \u001b[38;5;241m.\u001b[39mwith_privacy_budget(privacy_budget\u001b[38;5;241m=\u001b[39mprivacy_budget)\n\u001b[0;32m   (...)\u001b[0m\n\u001b[1;32m     76\u001b[0m     )\n\u001b[1;32m     77\u001b[0m )\n\u001b[1;32m     78\u001b[0m \u001b[38;5;28;01mif\u001b[39;00m (\n\u001b[1;32m     79\u001b[0m     \u001b[38;5;129;01mnot\u001b[39;00m \u001b[38;5;28misinstance\u001b[39m(protected_change, AddMaxRows)\n\u001b[1;32m     80\u001b[0m     \u001b[38;5;129;01mor\u001b[39;00m protected_change\u001b[38;5;241m.\u001b[39mmax_rows \u001b[38;5;241m!=\u001b[39m \u001b[38;5;241m2\u001b[39m\n\u001b[1;32m     81\u001b[0m ):\n\u001b[0;32m---> 82\u001b[0m     \u001b[38;5;28;01mraise\u001b[39;00m \u001b[38;5;167;01mValueError\u001b[39;00m(\n\u001b[1;32m     83\u001b[0m \u001b[38;5;250m        \u001b[39m\u001b[38;5;124;03m\"\"\"Turbo works only with the ReplaceOneRow definition which Tumult doesn't support.\u001b[39;00m\n\u001b[1;32m     84\u001b[0m \u001b[38;5;124;03m                     You must use AddMaxRows(2) which entails ReplaceOneRow instead\"\"\"\u001b[39;00m\n\u001b[1;32m     85\u001b[0m     )\n\u001b[1;32m     87\u001b[0m session \u001b[38;5;241m=\u001b[39m session_builder\u001b[38;5;241m.\u001b[39mbuild()\n\u001b[1;32m     89\u001b[0m \u001b[38;5;66;03m# Use the created Session to create a Turbo session\u001b[39;00m\n",
      "\u001b[0;31mValueError\u001b[0m: Turbo works only with the ReplaceOneRow definition which Tumult doesn't support.\n                             You must use AddMaxRows(2) which entails ReplaceOneRow instead"
     ]
    }
   ],
   "source": [
    "session = TurboSession.from_dataframe(\n",
    "    privacy_budget=PureDPBudget(1),\n",
    "    source_id=\"citibike\",\n",
    "    dataframe=citibike_df,\n",
    "    protected_change=AddMaxRows(1),\n",
    "    turbo_config=turbo_config,\n",
    ") "
   ]
  },
  {
   "cell_type": "code",
   "execution_count": null,
   "metadata": {},
   "outputs": [],
   "source": []
  }
 ],
 "metadata": {
  "kernelspec": {
   "display_name": "Python 3 (ipykernel)",
   "language": "python",
   "name": "python3"
  },
  "language_info": {
   "codemirror_mode": {
    "name": "ipython",
    "version": 3
   },
   "file_extension": ".py",
   "mimetype": "text/x-python",
   "name": "python",
   "nbconvert_exporter": "python",
   "pygments_lexer": "ipython3",
   "version": "3.8.10"
  }
 },
 "nbformat": 4,
 "nbformat_minor": 4
}
